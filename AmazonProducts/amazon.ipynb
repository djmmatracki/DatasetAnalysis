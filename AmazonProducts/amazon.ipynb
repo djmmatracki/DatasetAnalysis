{
 "cells": [
  {
   "cell_type": "markdown",
   "metadata": {},
   "source": [
    "# Amazon Products Data\n",
    "\n",
    "First of all we have to specify what mean all the columns.\n",
    "\n",
    "- unique_id - Unique identifier of a product (Not useful for data analysis)\n",
    "- product_name - Name of the product. Regular categorical variable.\n",
    "- manufacturer - Name of the manufacurer. Regular categorical variable.\n",
    "- price - Price of the product in GBP. Numerical variable.\n",
    "- number_of_reviews - Numerical variable.\n",
    "- number_of_answered_questions - Numerical variable.\n",
    "- average_review_rating - Numerical variable.\n",
    "- amazon_category_and_sub_category - Category variable.\n",
    "\n",
    "The problem that I am trying to solve is: **\"What can a seller do to get the best rating?\"**."
   ]
  },
  {
   "cell_type": "code",
   "execution_count": 2,
   "metadata": {},
   "outputs": [],
   "source": [
    "import pandas as pd\n",
    "import numpy as np\n",
    "import matplotlib.pyplot as plt"
   ]
  },
  {
   "cell_type": "markdown",
   "metadata": {},
   "source": [
    "First we specify which columns may be useful for our analysis. There is a lot of blank cols that's why we have to drop them and select the ones that are valid."
   ]
  },
  {
   "cell_type": "code",
   "execution_count": 3,
   "metadata": {},
   "outputs": [
    {
     "name": "stderr",
     "output_type": "stream",
     "text": [
      "/var/folders/sn/9k1r60m16tl0pqjy83j24x940000gn/T/ipykernel_61171/2582466896.py:2: DtypeWarning: Columns (5,6) have mixed types. Specify dtype option on import or set low_memory=False.\n",
      "  data = pd.read_csv(\"Amazon_Products.csv\", usecols=cols)\n"
     ]
    }
   ],
   "source": [
    "cols = [\"manufacturer\", \"price\", \"number_available_in_stock\", \"number_of_reviews\", \"number_of_answered_questions\", \"average_review_rating\"]\n",
    "data = pd.read_csv(\"Amazon_Products.csv\", usecols=cols)"
   ]
  },
  {
   "cell_type": "markdown",
   "metadata": {},
   "source": [
    "# Cleaning data"
   ]
  },
  {
   "cell_type": "markdown",
   "metadata": {},
   "source": [
    "### Price"
   ]
  },
  {
   "cell_type": "code",
   "execution_count": 4,
   "metadata": {},
   "outputs": [],
   "source": [
    "data.dropna(subset=[\"price\"], inplace=True)\n",
    "\n",
    "def cleanPrice(price):\n",
    "    return price.split(\" \")[0][1:]\n",
    "\n",
    "data[\"price\"] = data[\"price\"].transform(cleanPrice)\n",
    "data[\"price\"] = pd.to_numeric(data[\"price\"], errors='coerce')\n",
    "data[\"price\"].dropna(inplace=True)"
   ]
  },
  {
   "cell_type": "markdown",
   "metadata": {},
   "source": [
    "### Manufacturer"
   ]
  },
  {
   "cell_type": "code",
   "execution_count": 5,
   "metadata": {},
   "outputs": [
    {
     "name": "stdout",
     "output_type": "stream",
     "text": [
      "Number of NaN values:  0\n"
     ]
    },
    {
     "data": {
      "text/plain": [
       "0       Hornby\n",
       "1    FunkyBuys\n",
       "2          ccf\n",
       "3       Hornby\n",
       "4       Hornby\n",
       "Name: manufacturer, dtype: string"
      ]
     },
     "execution_count": 5,
     "metadata": {},
     "output_type": "execute_result"
    }
   ],
   "source": [
    "print(\"Number of NaN values: \", data.manufacturer[data.manufacturer == np.NaN].count())\n",
    "data.manufacturer = data.manufacturer.astype(\"string\")\n",
    "data.manufacturer.head()"
   ]
  },
  {
   "cell_type": "markdown",
   "metadata": {},
   "source": [
    "### Number available in stock"
   ]
  },
  {
   "cell_type": "code",
   "execution_count": 6,
   "metadata": {},
   "outputs": [
    {
     "data": {
      "text/plain": [
       "0         5\n",
       "1         0\n",
       "2         2\n",
       "3         0\n",
       "4         0\n",
       "         ..\n",
       "9999      5\n",
       "10000     0\n",
       "10001     3\n",
       "10002     3\n",
       "10003    31\n",
       "Name: number_available_in_stock, Length: 8567, dtype: int64"
      ]
     },
     "execution_count": 6,
     "metadata": {},
     "output_type": "execute_result"
    }
   ],
   "source": [
    "def cleanAvailable(item):\n",
    "    if item != \"0\":\n",
    "        try:\n",
    "            return int(item.split(\"\\xa0\")[0])\n",
    "        except Exception:\n",
    "            return 0\n",
    "    return 0\n",
    "\n",
    "data[\"number_available_in_stock\"].fillna(\"0\", inplace=True)\n",
    "data[\"number_available_in_stock\"] = data[\"number_available_in_stock\"].transform(cleanAvailable)\n",
    "data[\"number_available_in_stock\"]"
   ]
  },
  {
   "cell_type": "markdown",
   "metadata": {},
   "source": [
    "### Average Review Rating"
   ]
  },
  {
   "cell_type": "code",
   "execution_count": 7,
   "metadata": {},
   "outputs": [],
   "source": [
    "# Remove all values that don't match the pattern\n",
    "exp = \"^\\d.\\d out of 5 stars$\"\n",
    "\n",
    "data.drop(data[data[\"average_review_rating\"].str.contains(exp).fillna(False).astype(bool).transform(lambda i: not i)].index, inplace=True)"
   ]
  },
  {
   "cell_type": "code",
   "execution_count": 8,
   "metadata": {},
   "outputs": [
    {
     "data": {
      "text/plain": [
       "0        4.9\n",
       "1        4.5\n",
       "2        3.9\n",
       "3        5.0\n",
       "4        4.7\n",
       "        ... \n",
       "9999     5.0\n",
       "10000    4.0\n",
       "10001    5.0\n",
       "10002    5.0\n",
       "10003    4.5\n",
       "Name: average_review_rating, Length: 8550, dtype: float32"
      ]
     },
     "execution_count": 8,
     "metadata": {},
     "output_type": "execute_result"
    }
   ],
   "source": [
    "# Change type to float32\n",
    "data[\"average_review_rating\"] = data[\"average_review_rating\"].transform(lambda rev: rev[:3])\n",
    "data[\"average_review_rating\"] = data[\"average_review_rating\"].astype(\"float32\", copy=False)\n",
    "data[\"average_review_rating\"].dropna(inplace=True)\n",
    "data[\"average_review_rating\"]"
   ]
  },
  {
   "cell_type": "markdown",
   "metadata": {},
   "source": [
    "### Number of answered questions"
   ]
  },
  {
   "cell_type": "code",
   "execution_count": 9,
   "metadata": {},
   "outputs": [
    {
     "data": {
      "text/plain": [
       "0        1.0\n",
       "1        1.0\n",
       "2        2.0\n",
       "3        2.0\n",
       "4        2.0\n",
       "        ... \n",
       "9999     3.0\n",
       "10000    3.0\n",
       "10001    3.0\n",
       "10002    3.0\n",
       "10003    3.0\n",
       "Name: number_of_answered_questions, Length: 8550, dtype: float32"
      ]
     },
     "execution_count": 9,
     "metadata": {},
     "output_type": "execute_result"
    }
   ],
   "source": [
    "data[\"number_of_answered_questions\"] = data[\"number_of_answered_questions\"].astype(\"float32\")\n",
    "data[\"number_of_answered_questions\"].dropna(inplace=True)\n",
    "data[\"number_of_answered_questions\"]"
   ]
  },
  {
   "cell_type": "markdown",
   "metadata": {},
   "source": [
    "### Number of reviews"
   ]
  },
  {
   "cell_type": "code",
   "execution_count": 10,
   "metadata": {},
   "outputs": [
    {
     "data": {
      "text/plain": [
       "0        15.0\n",
       "1         2.0\n",
       "2        17.0\n",
       "3         1.0\n",
       "4         3.0\n",
       "         ... \n",
       "9999      3.0\n",
       "10000     1.0\n",
       "10001     1.0\n",
       "10002     1.0\n",
       "10003    11.0\n",
       "Name: number_of_reviews, Length: 8550, dtype: float64"
      ]
     },
     "execution_count": 10,
     "metadata": {},
     "output_type": "execute_result"
    }
   ],
   "source": [
    "data[\"number_of_reviews\"] = pd.to_numeric(data[\"number_of_reviews\"], errors='coerce')\n",
    "data[\"number_of_reviews\"].dropna(inplace=True)\n",
    "data[\"number_of_reviews\"]"
   ]
  },
  {
   "cell_type": "code",
   "execution_count": 11,
   "metadata": {},
   "outputs": [],
   "source": [
    "data.reset_index(inplace=True)"
   ]
  },
  {
   "cell_type": "markdown",
   "metadata": {},
   "source": [
    "# Prices\n",
    "\n",
    "First numerical variable that can analized is price, but first we have to clean it."
   ]
  },
  {
   "cell_type": "code",
   "execution_count": 12,
   "metadata": {},
   "outputs": [
    {
     "data": {
      "text/plain": [
       "count    8549.000000\n",
       "mean       19.982176\n",
       "std        38.276599\n",
       "min         0.010000\n",
       "25%         4.990000\n",
       "50%        10.580000\n",
       "75%        19.990000\n",
       "max       995.110000\n",
       "Name: price, dtype: float64"
      ]
     },
     "execution_count": 12,
     "metadata": {},
     "output_type": "execute_result"
    }
   ],
   "source": [
    "price = data.price\n",
    "price.dropna(inplace=True)\n",
    "price.describe()"
   ]
  },
  {
   "cell_type": "code",
   "execution_count": 13,
   "metadata": {},
   "outputs": [
    {
     "data": {
      "text/plain": [
       "Text(0.5, 0, 'Price (GBP)')"
      ]
     },
     "execution_count": 13,
     "metadata": {},
     "output_type": "execute_result"
    },
    {
     "data": {
      "image/png": "[encoded data removed]",
      "text/plain": [
       "<Figure size 720x720 with 4 Axes>"
      ]
     },
     "metadata": {
      "needs_background": "light"
     },
     "output_type": "display_data"
    }
   ],
   "source": [
    "fig, ((ax1, ax2), (ax3, ax4)) = plt.subplots(2, 2, figsize=(10, 10))\n",
    "\n",
    "ax1.hist(price, bins=100, range=(0, 1000))\n",
    "ax1.set_title(\"Amazon products price distribution wide range\")\n",
    "ax1.set_ylabel(\"Number of products\")\n",
    "ax1.set_xlabel(\"Price (GBP)\")\n",
    "\n",
    "ax2.hist(price, bins=50, range=(0, 200))\n",
    "ax2.set_title(\"Amazon products price distribution\")\n",
    "ax2.set_ylabel(\"Number of products\")\n",
    "ax2.set_xlabel(\"Price (GBP)\")\n",
    "\n",
    "ax3.hist(price, bins=50, range=(0, 100))\n",
    "ax3.set_title(\"Amazon products price distribution\")\n",
    "ax3.set_ylabel(\"Number of products\")\n",
    "ax3.set_xlabel(\"Price (GBP)\")\n",
    "\n",
    "ax4.hist(price, bins=50, range=(0, 40))\n",
    "ax4.set_title(\"Amazon products price distribution\")\n",
    "ax4.set_ylabel(\"Number of products\")\n",
    "ax4.set_xlabel(\"Price (GBP)\")\n"
   ]
  },
  {
   "cell_type": "markdown",
   "metadata": {},
   "source": [
    "Most of the prices are less than 100."
   ]
  },
  {
   "cell_type": "code",
   "execution_count": 14,
   "metadata": {},
   "outputs": [
    {
     "name": "stdout",
     "output_type": "stream",
     "text": [
      "Coefficient of variation:  191.55371134911562\n",
      "Standard variation:  38.276599148364035\n",
      "Interquantile range:  14.999999999999998\n",
      "Mode:  0    9.99\n",
      "Name: price, dtype: float64\n",
      "Median:  10.58\n",
      "Mean:  19.982175693063517\n"
     ]
    }
   ],
   "source": [
    "print(\"Coefficient of variation: \", price.std() / price.mean() * 100)\n",
    "print(\"Standard variation: \", price.std())\n",
    "print(\"Interquantile range: \", price.quantile(0.75) - price.quantile(0.25))\n",
    "print(\"Mode: \", price.mode())\n",
    "print(\"Median: \", price.median())\n",
    "print(\"Mean: \", price.mean())"
   ]
  },
  {
   "cell_type": "markdown",
   "metadata": {},
   "source": [
    "The coefficient variation tells us that the prices are very different. First quantile is 5 and third is 20 which means that most of the prices are in this range. Prices above 100 are exeptions."
   ]
  },
  {
   "cell_type": "code",
   "execution_count": 15,
   "metadata": {},
   "outputs": [
    {
     "name": "stdout",
     "output_type": "stream",
     "text": [
      "Skewness:  8.541878464321554\n",
      "How strong is the skewness:  0.22316189667771566\n"
     ]
    }
   ],
   "source": [
    "print(\"Skewness: \", price.skew()) # Rightsided skewness\n",
    "print(\"How strong is the skewness: \", price.skew() / price.std()) # Strong rightsided skewness"
   ]
  },
  {
   "cell_type": "code",
   "execution_count": 16,
   "metadata": {},
   "outputs": [
    {
     "data": {
      "text/plain": [
       "(0.0, 200.0)"
      ]
     },
     "execution_count": 16,
     "metadata": {},
     "output_type": "execute_result"
    },
    {
     "data": {
      "image/png": "[encoded data removed]",
      "text/plain": [
       "<Figure size 936x504 with 2 Axes>"
      ]
     },
     "metadata": {
      "needs_background": "light"
     },
     "output_type": "display_data"
    }
   ],
   "source": [
    "import scipy.stats as st\n",
    "\n",
    "fig, (ax1, ax2) = plt.subplots(1, 2, figsize=(13, 7))\n",
    "\n",
    "me = price.sum(min_count=0) / len(price)\n",
    "ax1.scatter(price, 1 - st.norm.cdf((price - me) / price.std()))\n",
    "ax2.scatter(price, 1 - st.norm.cdf((price - me) / price.std()))\n",
    "ax2.set_xlim(0, 200)"
   ]
  },
  {
   "cell_type": "markdown",
   "metadata": {},
   "source": [
    "### How much the distribution is similar to normal distribution"
   ]
  },
  {
   "cell_type": "code",
   "execution_count": 17,
   "metadata": {},
   "outputs": [
    {
     "data": {
      "image/png": "[encoded data removed]",
      "text/plain": [
       "<Figure size 432x288 with 1 Axes>"
      ]
     },
     "metadata": {
      "needs_background": "light"
     },
     "output_type": "display_data"
    }
   ],
   "source": [
    "import statsmodels.api as sm\n",
    "\n",
    "sm.qqplot(price, line='45')\n",
    "plt.show()"
   ]
  },
  {
   "cell_type": "code",
   "execution_count": 18,
   "metadata": {},
   "outputs": [
    {
     "name": "stdout",
     "output_type": "stream",
     "text": [
      "Not similar to gausian\n",
      "0.3985079526901245 0.0\n"
     ]
    },
    {
     "name": "stderr",
     "output_type": "stream",
     "text": [
      "/Users/dominikmatracki/MyProjects/DatasetAnalysis/venv/lib/python3.9/site-packages/scipy/stats/_morestats.py:1761: UserWarning: p-value may not be accurate for N > 5000.\n",
      "  warnings.warn(\"p-value may not be accurate for N > 5000.\")\n"
     ]
    }
   ],
   "source": [
    "stat, p = st.shapiro(price)\n",
    "\n",
    "alpha = 0.05\n",
    "if p > alpha:\n",
    "    print(\"Sample similar to gausian\")\n",
    "else:\n",
    "    print(\"Not similar to gausian\")\n",
    "print(stat, p)"
   ]
  },
  {
   "cell_type": "markdown",
   "metadata": {},
   "source": [
    "The distribution of variable price is not similar to gausian."
   ]
  },
  {
   "cell_type": "markdown",
   "metadata": {},
   "source": [
    "### Average Review Rating - numerical\n",
    "\n",
    "This variable is the one that we want to investigate the most."
   ]
  },
  {
   "cell_type": "code",
   "execution_count": 19,
   "metadata": {},
   "outputs": [
    {
     "name": "stdout",
     "output_type": "stream",
     "text": [
      "Minimal rating:  2.3\n",
      "Null values:  0\n"
     ]
    },
    {
     "data": {
      "text/plain": [
       "count    8550.000000\n",
       "mean        4.709602\n",
       "std         0.371093\n",
       "min         2.300000\n",
       "25%         4.500000\n",
       "50%         5.000000\n",
       "75%         5.000000\n",
       "max         5.000000\n",
       "Name: average_review_rating, dtype: float64"
      ]
     },
     "execution_count": 19,
     "metadata": {},
     "output_type": "execute_result"
    }
   ],
   "source": [
    "print(\"Minimal rating: \", data[\"average_review_rating\"].min())\n",
    "print(\"Null values: \", data[\"average_review_rating\"].isnull().sum())\n",
    "data[\"average_review_rating\"].describe()"
   ]
  },
  {
   "cell_type": "markdown",
   "metadata": {},
   "source": [
    "At first we see that most of the reviews are in the range from 4.5 to 5.0"
   ]
  },
  {
   "cell_type": "code",
   "execution_count": 20,
   "metadata": {},
   "outputs": [
    {
     "data": {
      "image/png": "[encoded data removed]",
      "text/plain": [
       "<Figure size 504x504 with 1 Axes>"
      ]
     },
     "metadata": {
      "needs_background": "light"
     },
     "output_type": "display_data"
    }
   ],
   "source": [
    "ratings = data[\"average_review_rating\"]\n",
    "\n",
    "fig, ax = plt.subplots(1, 1, figsize=(7, 7))\n",
    "\n",
    "ax.hist(ratings, bins=500, range=(2, 5))\n",
    "ax.set_title(\"Amazon products price distribution wide range\")\n",
    "ax.set_ylabel(\"Number of products\")\n",
    "ax.set_xlabel(\"Price (GBP)\")\n",
    "plt.show()"
   ]
  },
  {
   "cell_type": "markdown",
   "metadata": {},
   "source": [
    "Including to the cross table we can deduce that most of the valus are from 4 to 5. We can devide ratings into two groups the ones that are 5.0 and the ones below."
   ]
  },
  {
   "cell_type": "code",
   "execution_count": 21,
   "metadata": {},
   "outputs": [
    {
     "name": "stdout",
     "output_type": "stream",
     "text": [
      "col_0                  Count\n",
      "average_review_rating       \n",
      "2.3                        1\n",
      "3.0                        3\n",
      "3.3                        2\n",
      "3.5                        2\n",
      "3.6                        2\n",
      "3.7                        1\n",
      "3.9                        6\n",
      "4.0                     1107\n",
      "4.1                      128\n",
      "4.2                      179\n",
      "4.3                      349\n",
      "4.4                      249\n",
      "4.5                      609\n",
      "4.6                      342\n",
      "4.7                      458\n",
      "4.8                      493\n",
      "4.9                      207\n",
      "5.0                     4412\n"
     ]
    },
    {
     "data": {
      "image/png": "[encoded data removed]",
      "text/plain": [
       "<Figure size 432x288 with 1 Axes>"
      ]
     },
     "metadata": {
      "needs_background": "light"
     },
     "output_type": "display_data"
    }
   ],
   "source": [
    "import seaborn as sns\n",
    "print(pd.crosstab(index=ratings, columns=\"Count\"))\n",
    "sns.countplot(x=\"average_review_rating\", data=data)\n",
    "plt.title(\"The count of each rating\")\n",
    "plt.show()"
   ]
  },
  {
   "cell_type": "code",
   "execution_count": 24,
   "metadata": {},
   "outputs": [
    {
     "data": {
      "text/plain": [
       "count    8550.000000\n",
       "mean        0.516023\n",
       "std         0.499772\n",
       "min         0.000000\n",
       "25%         0.000000\n",
       "50%         1.000000\n",
       "75%         1.000000\n",
       "max         1.000000\n",
       "Name: average_review_rating, dtype: float64"
      ]
     },
     "execution_count": 24,
     "metadata": {},
     "output_type": "execute_result"
    }
   ],
   "source": [
    "data[\"average_review_rating\"].mask(data[\"average_review_rating\"] < 5.0, 0.0, inplace=True)\n",
    "data[\"average_review_rating\"].mask(data[\"average_review_rating\"] == 5.0, 1.0, inplace=True)\n",
    "data[\"average_review_rating\"].describe()"
   ]
  }
 ],
 "metadata": {
  "interpreter": {
   "hash": "5d507b4d65120b22d884535336e63ae8dedca4f27dbc473d5e2a2e501af3497e"
  },
  "kernelspec": {
   "display_name": "Python 3.9.7 ('venv': venv)",
   "language": "python",
   "name": "python3"
  },
  "language_info": {
   "codemirror_mode": {
    "name": "ipython",
    "version": 3
   },
   "file_extension": ".py",
   "mimetype": "text/x-python",
   "name": "python",
   "nbconvert_exporter": "python",
   "pygments_lexer": "ipython3",
   "version": "3.9.7"
  },
  "orig_nbformat": 4
 },
 "nbformat": 4,
 "nbformat_minor": 2
}
